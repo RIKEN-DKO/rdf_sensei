{
 "cells": [
  {
   "cell_type": "code",
   "execution_count": 1,
   "metadata": {},
   "outputs": [],
   "source": [
    "%load_ext autoreload\n",
    "%autoreload 2"
   ]
  },
  {
   "cell_type": "code",
   "execution_count": 2,
   "metadata": {},
   "outputs": [],
   "source": [
    "import os\n",
    "#Read the key /home/julio/repos/nl2sparql_synthetic_data/data/openai_key.txt\n",
    "with open('/home/julio/repos/nl2sparql_synthetic_data/data/openai_key.txt', 'r') as file:\n",
    "    key = file.read().replace('\\n', '')\n",
    "os.environ[\"OPENAI_API_KEY\"]= key\n",
    "\n",
    "from openai import OpenAI"
   ]
  },
  {
   "cell_type": "code",
   "execution_count": 3,
   "metadata": {},
   "outputs": [],
   "source": [
    "# os.chdir('../rdf_sensei')"
   ]
  },
  {
   "cell_type": "code",
   "execution_count": 4,
   "metadata": {},
   "outputs": [
    {
     "name": "stderr",
     "output_type": "stream",
     "text": [
      "/home/julio/envs/rdfsensei/lib/python3.10/site-packages/tqdm/auto.py:21: TqdmWarning: IProgress not found. Please update jupyter and ipywidgets. See https://ipywidgets.readthedocs.io/en/stable/user_install.html\n",
      "  from .autonotebook import tqdm as notebook_tqdm\n"
     ]
    }
   ],
   "source": [
    "from rdfsensei.semantic_search.data_loader import DataLoader\n",
    "from rdfsensei.semantic_search.embedding_generator import EmbeddingGenerator\n",
    "from rdfsensei.semantic_search.faiss_index import FaissIndex\n",
    "from rdfsensei.semantic_search.query_processor import QueryProcessor\n",
    "import numpy as np\n",
    "import openai"
   ]
  },
  {
   "cell_type": "code",
   "execution_count": 5,
   "metadata": {},
   "outputs": [
    {
     "name": "stdout",
     "output_type": "stream",
     "text": [
      "Loading data from /home/julio/repos/nl2sparql_synthetic_data/data/x_cell_small/xcell_path_dataset_rating_k2.json\n"
     ]
    }
   ],
   "source": [
    "# data_directory = '../data/gendata_xcell'  # Directory where your JSON files are stored\n",
    "data_directory = '/home/julio/repos/nl2sparql_synthetic_data/data/x_cell_small'  # Directory where your JSON files are stored\n",
    "\n",
    "# Step 1: Load and preprocess data\n",
    "data_loader = DataLoader(data_directory)\n",
    "data_loader.load_data()\n",
    "processed_data = data_loader.preprocess_questions()\n",
    "if not processed_data:\n",
    "    print(\"No data to process.\")\n",
    "\n"
   ]
  },
  {
   "cell_type": "code",
   "execution_count": 6,
   "metadata": {},
   "outputs": [],
   "source": [
    "\n",
    "cleaned_questions, metadata = zip(*processed_data)\n",
    "\n",
    "# Step 2: Generate embeddings\n",
    "embedding_generator = EmbeddingGenerator()\n",
    "embeddings = embedding_generator.generate_embeddings(list(cleaned_questions))\n"
   ]
  },
  {
   "cell_type": "code",
   "execution_count": 7,
   "metadata": {},
   "outputs": [],
   "source": [
    "\n",
    "# Step 3: Build Faiss index\n",
    "embedding_dim = embeddings.shape[1]\n",
    "faiss_index = FaissIndex(embedding_dim, use_gpu=True)\n",
    "faiss_index.build_index(embeddings, list(metadata))\n"
   ]
  },
  {
   "cell_type": "code",
   "execution_count": 10,
   "metadata": {},
   "outputs": [
    {
     "name": "stdout",
     "output_type": "stream",
     "text": [
      "Loading labels on endpoint cache...\n",
      "Labels on endpoint cache loaded!\n",
      "Loading counts on endpoint cache...\n",
      "Counts on endpoint cache loaded!\n",
      "Loading existing FAISS index...\n",
      "Existing index Loaded!\n"
     ]
    }
   ],
   "source": [
    "labels_path = \"/home/julio/repos/nl2sparql_synthetic_data/data/tabox_index/xsearch_cell/labels.obj\"\n",
    "counts_path = \"/home/julio/repos/nl2sparql_synthetic_data/data/tabox_index/xsearch_cell/counts.obj\"\n",
    "endpoint_t_box_url = \"https://knowledge.brc.riken.jp/bioresource/sparql\"\n",
    "database=\"http://metadb.riken.jp/db/xsearch_cell\"\n",
    "path_index = \"/home/julio/repos/nl2sparql_synthetic_data/data/tabox_index/xsearch_cell/t_box_index/faiss\"\n",
    "# Step 4: Initialize Query Processor\n",
    "from riqme.context.LLMStrategies import OpenAIStrategy  # Import your LLM strategy\n",
    "\n",
    "# Load LLM strategy (can be OpenAI, Llama, etc.)\n",
    "openai_client = OpenAI()\n",
    "llm_strategy = OpenAIStrategy(openai_client)\n",
    "\n",
    "query_processor = QueryProcessor(embedding_generator, \n",
    "                                 faiss_index, labels_path, \n",
    "                                 counts_path, endpoint_t_box_url, \n",
    "                                 database, path_index,llm_strategy=llm_strategy,\n",
    "                                 model_name='gpt-4o'\n",
    "                                 )\n",
    "\n"
   ]
  },
  {
   "cell_type": "code",
   "execution_count": 9,
   "metadata": {},
   "outputs": [
    {
     "name": "stdout",
     "output_type": "stream",
     "text": [
      "processing SPARQL query and answer: Which cell line references the PubMed article 123d and what is its label?\n",
      "Added database to query: http://metadb.riken.jp/db/xsearch_cell\n",
      "--------SEMANTIC SEARCH--------\n",
      "[{'original_question': 'What is the <<label>> of the cell line <<AES0037_Freeze medium>> and its cited authority <<B6fc-1>> in the <<pubmed>> database?', 'sparql_query': 'SELECT ?label1 ?label2 ?authority WHERE {\\n  <http://metadb.riken.jp/db/rikenbrc_cell/cell_49_b4331> <http://www.w3.org/2000/01/rdf-schema#label> ?label1 .\\n  <http://metadb.riken.jp/db/rikenbrc_cell/cell_AES0037> <http://www.w3.org/2000/01/rdf-schema#label> ?label2 .\\n  <http://metadb.riken.jp/db/rikenbrc_cell/cell_AES0037> <http://purl.org/net/cito/citesAsAuthority> ?authority .\\n}', 'entity_mapping': {'AES0037_Freeze medium': '<http://metadb.riken.jp/db/rikenbrc_cell/cell_49_b4331>', 'B6fc-1': '<http://metadb.riken.jp/db/rikenbrc_cell/cell_AES0037>', 'label': '<http://www.w3.org/2000/01/rdf-schema#label>', 'pubmed': '<http://rdf.ncbi.nlm.nih.gov/pubmed>'}, 'distance': 0.6013592}, {'original_question': 'What is the name of the cell line that cites publication <<11326103>> and is labeled as <<AES0037_Freeze medium>>?', 'sparql_query': 'PREFIX rdfs: <http://www.w3.org/2000/01/rdf-schema#>\\nPREFIX cito: <http://purl.org/net/cito/>\\n\\nSELECT ?label WHERE {\\n  <http://metadb.riken.jp/db/rikenbrc_cell/cell_49_b4331> rdfs:label ?label .\\n  <http://metadb.riken.jp/db/rikenbrc_cell/cell_49_b4331> <http://metadb.riken.jp/db/rikenbrc_cell/cell_0000052> <http://metadb.riken.jp/db/rikenbrc_cell/cell_AES0037> .\\n  <http://metadb.riken.jp/db/rikenbrc_cell/cell_AES0037> cito:citesAsAuthority <http://rdf.ncbi.nlm.nih.gov/pubmed/11326103> .\\n}', 'entity_mapping': {'label': '<http://www.w3.org/2000/01/rdf-schema#label>', 'AES0037_Freeze medium': '<http://metadb.riken.jp/db/rikenbrc_cell/cell_49_b4331>', 'cites': '<http://purl.org/net/cito/citesAsAuthority>', '11326103': '<http://rdf.ncbi.nlm.nih.gov/pubmed/11326103>'}, 'distance': 0.61175656}, {'original_question': 'What is the <<label>> of the cell line <<AES0037_Freeze medium>> that <<cites>> the publication with ID <<11326103>>?', 'sparql_query': 'PREFIX rdfs: <http://www.w3.org/2000/01/rdf-schema#>\\nPREFIX cito: <http://purl.org/net/cito/>\\n\\nSELECT ?label WHERE {\\n  <http://metadb.riken.jp/db/rikenbrc_cell/cell_49_b4331> rdfs:label ?label .\\n  <http://metadb.riken.jp/db/rikenbrc_cell/cell_49_b4331> <http://metadb.riken.jp/db/rikenbrc_cell/cell_0000052> <http://metadb.riken.jp/db/rikenbrc_cell/cell_AES0037> .\\n  <http://metadb.riken.jp/db/rikenbrc_cell/cell_AES0037> cito:citesAsAuthority <http://rdf.ncbi.nlm.nih.gov/pubmed/11326103> .\\n}', 'entity_mapping': {'label': '<http://www.w3.org/2000/01/rdf-schema#label>', 'AES0037_Freeze medium': '<http://metadb.riken.jp/db/rikenbrc_cell/cell_49_b4331>', 'cites': '<http://purl.org/net/cito/citesAsAuthority>', '11326103': '<http://rdf.ncbi.nlm.nih.gov/pubmed/11326103>'}, 'distance': 0.6464653}, {'original_question': 'Can you tell me the label for <<http://metadb.riken.jp/db/rikenbrc_cell/cell_48_539>>?', 'sparql_query': 'SELECT ?label WHERE {\\n  <http://metadb.riken.jp/db/rikenbrc_cell/cell_48_539> <http://www.w3.org/2000/01/rdf-schema#label> ?label .\\n}', 'entity_mapping': {'http': '//metadb.riken.jp/db/rikenbrc_cell/cell_48_539>>: <http://metadb.riken.jp/db/rikenbrc_cell/cell_48_539>'}, 'distance': 0.6513827}, {'original_question': 'What is the description or label of <<http://metadb.riken.jp/db/rikenbrc_cell/cell_48_539>>?', 'sparql_query': 'SELECT ?label WHERE {\\n  <http://metadb.riken.jp/db/rikenbrc_cell/cell_48_539> <http://www.w3.org/2000/01/rdf-schema#label> ?label .\\n}', 'entity_mapping': {'http': '//metadb.riken.jp/db/rikenbrc_cell/cell_48_539>>: <http://metadb.riken.jp/db/rikenbrc_cell/cell_48_539>'}, 'distance': 0.6625087}]\n",
      "--------ENTITY LINKING--------\n",
      "[{'label': 'B cell of ALL', 'content': {'?term': 'nodeID://b597907996', '?type': 'class', '?label': 'B cell of ALL', '?qtd': '\"1\"^^<http://www.w3.org/2001/XMLSchema#integer>'}, 'score': 0.6424016952514648, 'offsets': (6, 10), 'matched_text': 'cell', 'minimal': True}]\n"
     ]
    }
   ],
   "source": [
    "\n",
    "# Example usage\n",
    "# user_query = \"Which authority is cited by the cell line\"\n",
    "user_query = \"Which cell line references the PubMed article 123d and what is its label?\"\n",
    "results = query_processor.process_query(user_query,top_k_questions=5,do_entity_linking=True)\n",
    "# if result:\n",
    "#     print(\"\\nMatched Question:\\n\", result['original_question'])\n",
    "#     print(\"\\nSPARQL Query:\\n\", result['sparql_query'])\n",
    "# else:\n",
    "#     print(\"No similar question found.\")\n",
    "# for result in results['semantic_search']:\n",
    "#     print(\"\\nMatched Question:\\n\", result['original_question'])\n",
    "#     print(\"\\nSPARQL Query:\\n\", result['sparql_query'])\n",
    "#     print('Distance:', result['distance'])\n",
    "#     print('Entity mapping:', result['entity_mapping'])\n",
    "print(\"--------SEMANTIC SEARCH--------\")\n",
    "print(results['semantic_search'])\n",
    "print(\"--------ENTITY LINKING--------\")\n",
    "print(results['entity_linking'])"
   ]
  },
  {
   "cell_type": "code",
   "execution_count": 13,
   "metadata": {},
   "outputs": [
    {
     "name": "stdout",
     "output_type": "stream",
     "text": [
      "processing SPARQL query and answer:  Which value of HPS0953_culture ?\n",
      "Added database to query: http://metadb.riken.jp/db/xsearch_cell\n",
      "Best SPARQL Query:\n",
      " SELECT ?value WHERE {\n",
      "  <http://metadb.riken.jp/db/rikenbrc_cell/cell_48_694> <http://metadb.riken.jp/db/rikenbrc_cell/cell_0000041> ?unknown .\n",
      "  ?unknown <http://www.w3.org/1999/02/22-rdf-syntax-ns#value> ?value .\n",
      "}\n",
      "--------SEMANTIC SEARCH--------\n",
      "\n",
      "Matched Question:\n",
      " Which value has been assigned to the <<HPS0953_culture condition>>?\n",
      "\n",
      "SPARQL Query:\n",
      " SELECT ?value WHERE {\n",
      "  <http://metadb.riken.jp/db/rikenbrc_cell/cell_48_694> <http://metadb.riken.jp/db/rikenbrc_cell/cell_0000041> ?unknown .\n",
      "  ?unknown <http://www.w3.org/1999/02/22-rdf-syntax-ns#value> ?value .\n",
      "}\n",
      "Distance: 0.17061758\n",
      "Entity mapping: {'HPS0953_culture condition': '<http://metadb.riken.jp/db/rikenbrc_cell/cell_48_694>'}\n",
      "\n",
      "Matched Question:\n",
      " What numeric value is tied to the <<HPS0953_culture condition>>?\n",
      "\n",
      "SPARQL Query:\n",
      " SELECT ?value WHERE {\n",
      "  <http://metadb.riken.jp/db/rikenbrc_cell/cell_48_694> <http://metadb.riken.jp/db/rikenbrc_cell/cell_0000041> ?unknown .\n",
      "  ?unknown <http://www.w3.org/1999/02/22-rdf-syntax-ns#value> ?value .\n",
      "}\n",
      "Distance: 0.24858844\n",
      "Entity mapping: {'HPS0953_culture condition': '<http://metadb.riken.jp/db/rikenbrc_cell/cell_48_694>'}\n",
      "\n",
      "Matched Question:\n",
      " What is the value associated with the culture condition <<HPS0953_culture condition>>?\n",
      "\n",
      "SPARQL Query:\n",
      " SELECT ?value WHERE {\n",
      "  <http://metadb.riken.jp/db/rikenbrc_cell/cell_48_694> <http://metadb.riken.jp/db/rikenbrc_cell/cell_0000041> ?unknown .\n",
      "  ?unknown <http://www.w3.org/1999/02/22-rdf-syntax-ns#value> ?value .\n",
      "}\n",
      "Distance: 0.2746821\n",
      "Entity mapping: {'HPS0953_culture condition': '<http://metadb.riken.jp/db/rikenbrc_cell/cell_48_694>'}\n",
      "\n",
      "Matched Question:\n",
      " What does the <<HPS0953_culture condition>> specify as its value?\n",
      "\n",
      "SPARQL Query:\n",
      " SELECT ?value WHERE {\n",
      "  <http://metadb.riken.jp/db/rikenbrc_cell/cell_48_694> <http://metadb.riken.jp/db/rikenbrc_cell/cell_0000041> ?unknown .\n",
      "  ?unknown <http://www.w3.org/1999/02/22-rdf-syntax-ns#value> ?value .\n",
      "}\n",
      "Distance: 0.27576882\n",
      "Entity mapping: {'HPS0953_culture condition': '<http://metadb.riken.jp/db/rikenbrc_cell/cell_48_694>'}\n",
      "\n",
      "Matched Question:\n",
      " Can you tell me the value linked to the culture condition called <<HPS0953_culture condition>>?\n",
      "\n",
      "SPARQL Query:\n",
      " SELECT ?value WHERE {\n",
      "  <http://metadb.riken.jp/db/rikenbrc_cell/cell_48_694> <http://metadb.riken.jp/db/rikenbrc_cell/cell_0000041> ?unknown .\n",
      "  ?unknown <http://www.w3.org/1999/02/22-rdf-syntax-ns#value> ?value .\n",
      "}\n",
      "Distance: 0.3615141\n",
      "Entity mapping: {'HPS0953_culture condition': '<http://metadb.riken.jp/db/rikenbrc_cell/cell_48_694>'}\n",
      "--------ENTITY LINKING--------\n",
      "[{'label': 'HPS', 'content': {'?term': 'http://metadb.riken.jp/db/rikenbrc_cell/cell_0000020', '?type': 'class', '?label': 'HPS', '?qtd': '\"1\"^^<http://www.w3.org/2001/XMLSchema#integer>'}, 'score': 0.7618705630302429, 'offsets': (16, 31), 'matched_text': 'HPS0953_culture', 'minimal': True}]\n",
      "--------LLM ANSWER--------\n",
      "The value of HPS0953_culture is 37.\n"
     ]
    }
   ],
   "source": [
    "# Example usage\n",
    "# user_query = \"Which authority is cited by the cell line\"\n",
    "user_query = \" Which value of HPS0953_culture ?\"\n",
    "results = query_processor.process_query(user_query,top_k_questions=5,do_entity_linking=True)\n",
    "# if result:\n",
    "#     print(\"\\nMatched Question:\\n\", result['original_question'])\n",
    "#     print(\"\\nSPARQL Query:\\n\", result['sparql_query'])\n",
    "# else:\n",
    "#     print(\"No similar question found.\")\n",
    "print(\"Best SPARQL Query:\\n\", results['best_sparql_query'])\n",
    "print(\"--------SEMANTIC SEARCH--------\")\n",
    "for result in results['semantic_search']:\n",
    "    print(\"\\nMatched Question:\\n\", result['original_question'])\n",
    "    print(\"\\nSPARQL Query:\\n\", result['sparql_query'])\n",
    "    print('Distance:', result['distance'])\n",
    "    print('Entity mapping:', result['entity_mapping'])\n",
    "\n",
    "print(\"--------ENTITY LINKING--------\")\n",
    "print(results['entity_linking'])\n",
    "print(\"--------LLM ANSWER--------\")\n",
    "print(results['llm_answer']['answer'])\n"
   ]
  }
 ],
 "metadata": {
  "kernelspec": {
   "display_name": "rdfsensei",
   "language": "python",
   "name": "python3"
  },
  "language_info": {
   "codemirror_mode": {
    "name": "ipython",
    "version": 3
   },
   "file_extension": ".py",
   "mimetype": "text/x-python",
   "name": "python",
   "nbconvert_exporter": "python",
   "pygments_lexer": "ipython3",
   "version": "3.10.12"
  }
 },
 "nbformat": 4,
 "nbformat_minor": 2
}
